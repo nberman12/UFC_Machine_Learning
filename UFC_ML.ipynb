{
 "cells": [
  {
   "cell_type": "code",
   "execution_count": 1,
   "metadata": {},
   "outputs": [],
   "source": [
    "import pandas as pd\n",
    "import numpy as np\n",
    "import matplotlib.pyplot as plt\n",
    "import seaborn as sns\n",
    "from sklearn.preprocessing import power_transform"
   ]
  },
  {
   "cell_type": "code",
   "execution_count": 2,
   "metadata": {},
   "outputs": [
    {
     "name": "stdout",
     "output_type": "stream",
     "text": [
      "11\n"
     ]
    }
   ],
   "source": [
    "df=pd.read_csv(\"Data2/ufc-master.csv\")\n",
    "\n",
    "df_upcoming=pd.read_csv(\"Data2/upcoming-event.csv\")\n",
    "\n",
    "df_recent=pd.read_csv(\"Data2/most-recent-event.csv\")\n",
    "\n",
    "upcoming_fights=len(df_upcoming)\n",
    "print(upcoming_fights)"
   ]
  },
  {
   "cell_type": "code",
   "execution_count": 3,
   "metadata": {},
   "outputs": [],
   "source": [
    "df_update=df_recent.append(df)"
   ]
  },
  {
   "cell_type": "code",
   "execution_count": 4,
   "metadata": {},
   "outputs": [],
   "source": [
    "df_combined=df_upcoming.append(df_update)"
   ]
  },
  {
   "cell_type": "code",
   "execution_count": 5,
   "metadata": {},
   "outputs": [
    {
     "name": "stderr",
     "output_type": "stream",
     "text": [
      "C:\\Users\\nateb\\Anaconda3\\lib\\site-packages\\ipykernel_launcher.py:5: SettingWithCopyWarning: \n",
      "A value is trying to be set on a copy of a slice from a DataFrame\n",
      "\n",
      "See the caveats in the documentation: http://pandas.pydata.org/pandas-docs/stable/user_guide/indexing.html#returning-a-view-versus-a-copy\n",
      "  \"\"\"\n",
      "C:\\Users\\nateb\\Anaconda3\\lib\\site-packages\\ipykernel_launcher.py:7: SettingWithCopyWarning: \n",
      "A value is trying to be set on a copy of a slice from a DataFrame\n",
      "\n",
      "See the caveats in the documentation: http://pandas.pydata.org/pandas-docs/stable/user_guide/indexing.html#returning-a-view-versus-a-copy\n",
      "  import sys\n"
     ]
    }
   ],
   "source": [
    "df_combined['label']=''\n",
    "\n",
    "\n",
    "mask = df_combined['Winner'] == 'Red'\n",
    "df_combined['label'][mask] = 0\n",
    "mask = df_combined['Winner'] == 'Blue'\n",
    "df_combined['label'][mask] = 1\n",
    "\n",
    "\n",
    "df_combined['label'] = pd.to_numeric(df_combined['label'], errors='coerce')\n",
    "\n",
    "\n",
    "df_combined['date'] = pd.to_datetime(df['date'])"
   ]
  },
  {
   "cell_type": "code",
   "execution_count": 6,
   "metadata": {
    "scrolled": true
   },
   "outputs": [
    {
     "name": "stdout",
     "output_type": "stream",
     "text": [
      "11\n",
      "11\n",
      "4434\n",
      "4434\n"
     ]
    }
   ],
   "source": [
    "label_df = df_combined['label']\n",
    "\n",
    "df_train = df_combined[upcoming_fights:]\n",
    "label_train = label_df[upcoming_fights:]\n",
    "\n",
    "df_test = df_combined[:upcoming_fights]\n",
    "label_test = label_df[:upcoming_fights]\n",
    "\n",
    "\n",
    "#Make sure the sizes are the same\n",
    "print(len(df_test))\n",
    "print(len(label_test))\n",
    "\n",
    "print(len(df_train))\n",
    "print(len(label_train))"
   ]
  },
  {
   "cell_type": "code",
   "execution_count": null,
   "metadata": {},
   "outputs": [],
   "source": []
  },
  {
   "cell_type": "code",
   "execution_count": 7,
   "metadata": {},
   "outputs": [],
   "source": [
    "from sklearn.tree import DecisionTreeClassifier\n",
    "my_model=DecisionTreeClassifier(max_depth=5)"
   ]
  },
  {
   "cell_type": "code",
   "execution_count": 8,
   "metadata": {},
   "outputs": [],
   "source": [
    "my_features = ['R_odds', 'B_Stance']\n",
    "\n",
    "#Let's grab the names of the fighters for the upcoming event\n",
    "#This will be useful to print predictions at the end.\n",
    "fighters_test = df_test[['R_fighter', 'B_fighter']]\n",
    "odds_test = df_test[['R_odds', 'B_odds']]"
   ]
  },
  {
   "cell_type": "code",
   "execution_count": 9,
   "metadata": {},
   "outputs": [],
   "source": [
    "df_train_prepped = df_train[my_features].copy()\n",
    "df_test_prepped = df_test[my_features].copy()"
   ]
  },
  {
   "cell_type": "code",
   "execution_count": 10,
   "metadata": {},
   "outputs": [],
   "source": [
    "\n",
    "df_train_prepped = pd.get_dummies(df_train_prepped)\n",
    "df_test_prepped = pd.get_dummies(df_test_prepped)\n",
    "\n",
    "#Ensure both sets are dummified the same\n",
    "df_train_prepped, df_test_prepped = df_train_prepped.align(df_test_prepped, join='left', axis=1) \n",
    "\n",
    "df_test_prepped = df_test_prepped.fillna(0)\n",
    "\n",
    "#Since we may have dropped some rows we need to drop the matching rows in the labels\n",
    "label_train_prepped = label_train[label_train.index.isin(df_train_prepped.index)]\n",
    "label_test_prepped = label_test[label_test.index.isin(df_test_prepped.index)]\n",
    "fighters_test_prepped = fighters_test[fighters_test.index.isin(df_test_prepped.index)]\n",
    "odds_test_prepped = odds_test[odds_test.index.isin(df_test_prepped.index)]"
   ]
  },
  {
   "cell_type": "code",
   "execution_count": 11,
   "metadata": {},
   "outputs": [
    {
     "name": "stdout",
     "output_type": "stream",
     "text": [
      "4434\n",
      "4434\n",
      "11\n",
      "11\n",
      "11\n",
      "11\n"
     ]
    }
   ],
   "source": [
    "#Quick test that lengths match.\n",
    "print(len(label_train_prepped))\n",
    "print(len(df_train_prepped))\n",
    "print(len(label_test_prepped))\n",
    "print(len(df_test_prepped))\n",
    "print(len(fighters_test_prepped))\n",
    "print(len(odds_test_prepped))"
   ]
  },
  {
   "cell_type": "code",
   "execution_count": 12,
   "metadata": {},
   "outputs": [
    {
     "data": {
      "text/plain": [
       "array([[0.42613636, 0.57386364],\n",
       "       [0.42613636, 0.57386364],\n",
       "       [0.8297456 , 0.1702544 ],\n",
       "       [0.42613636, 0.57386364],\n",
       "       [0.54440789, 0.45559211],\n",
       "       [0.8297456 , 0.1702544 ],\n",
       "       [0.6819788 , 0.3180212 ],\n",
       "       [0.71984436, 0.28015564],\n",
       "       [0.54440789, 0.45559211],\n",
       "       [0.33828996, 0.66171004],\n",
       "       [0.75806452, 0.24193548]])"
      ]
     },
     "execution_count": 12,
     "metadata": {},
     "output_type": "execute_result"
    }
   ],
   "source": [
    "my_model.fit(df_train_prepped, label_train_prepped)\n",
    "\n",
    "probs = my_model.predict_proba(df_test_prepped)\n",
    "\n",
    "probs"
   ]
  },
  {
   "cell_type": "code",
   "execution_count": 13,
   "metadata": {},
   "outputs": [],
   "source": [
    "fighter_array=fighters_test_prepped.to_numpy()\n",
    "odds_array=odds_test_prepped.to_numpy()"
   ]
  },
  {
   "cell_type": "code",
   "execution_count": 14,
   "metadata": {},
   "outputs": [
    {
     "data": {
      "text/plain": [
       "array([[['Brian Ortega', 'Chan Sung Jung'],\n",
       "        [160, -200],\n",
       "        [0.42613636363636365, 0.5738636363636364]],\n",
       "\n",
       "       [['Katlyn Chookagian', 'Jessica Andrade'],\n",
       "        [130, -159],\n",
       "        [0.42613636363636365, 0.5738636363636364]],\n",
       "\n",
       "       [['Jimmy Crute', 'Modestas Bukauskas'],\n",
       "        [-335, 250],\n",
       "        [0.8297455968688845, 0.17025440313111545]],\n",
       "\n",
       "       [['Claudio Silva', 'James Krause'],\n",
       "        [130, -162],\n",
       "        [0.42613636363636365, 0.5738636363636364]],\n",
       "\n",
       "       [['Thomas Almeida', 'Jonathan Martinez'],\n",
       "        [-139, 110],\n",
       "        [0.5444078947368421, 0.4555921052631579]],\n",
       "\n",
       "       [['Mateusz Gamrot', 'Guram Kutateladze'],\n",
       "        [-335, 245],\n",
       "        [0.8297455968688845, 0.17025440313111545]],\n",
       "\n",
       "       [['Gillian Robertson', 'Poliana Botelho'],\n",
       "        [-215, 169],\n",
       "        [0.6819787985865724, 0.31802120141342755]],\n",
       "\n",
       "       [['Junyong Park', 'John Phillips'],\n",
       "        [-278, 215],\n",
       "        [0.7198443579766537, 0.2801556420233463]],\n",
       "\n",
       "       [['Jamie Mullarkey', 'Fares Ziam'],\n",
       "        [-150, 120],\n",
       "        [0.5444078947368421, 0.4555921052631579]],\n",
       "\n",
       "       [['Gadzhimurad Antigulov', 'Maxim Grishin'],\n",
       "        [277, -375],\n",
       "        [0.3382899628252788, 0.6617100371747212]],\n",
       "\n",
       "       [['Said Nurmagomedov', 'Mark Striegl'],\n",
       "        [-435, 317],\n",
       "        [0.7580645161290323, 0.24193548387096775]]], dtype=object)"
      ]
     },
     "execution_count": 14,
     "metadata": {},
     "output_type": "execute_result"
    }
   ],
   "source": [
    "probs_list=np.array(list(zip(fighter_array, odds_array, probs)))\n",
    "\n",
    "probs_list"
   ]
  },
  {
   "cell_type": "code",
   "execution_count": 15,
   "metadata": {},
   "outputs": [],
   "source": [
    "def get_bet_ev(odds, probs):\n",
    "    if odds>0:\n",
    "        return ((odds*probs)-(100*(1-probs)))\n",
    "    else:\n",
    "        return ((100/abs(odds))*100*probs-(100*(1-probs)))\n"
   ]
  },
  {
   "cell_type": "code",
   "execution_count": 16,
   "metadata": {
    "scrolled": true
   },
   "outputs": [
    {
     "name": "stdout",
     "output_type": "stream",
     "text": [
      "Brian Ortega (RED) vs  Chan Sung Jung (BLUE)\n",
      "Brian Ortega has a 42.61 percent chance of winning.  Their odds are 160 This gives them a single bet EV of 10.80\n",
      "Chan Sung Jung has a 57.39 percent chance of winning.  Their odds are -200 This gives them a single bet EV of -13.92\n",
      "RED is a good bet\n",
      "\n",
      "Katlyn Chookagian (RED) vs  Jessica Andrade (BLUE)\n",
      "Katlyn Chookagian has a 42.61 percent chance of winning.  Their odds are 130 This gives them a single bet EV of -1.99\n",
      "Jessica Andrade has a 57.39 percent chance of winning.  Their odds are -159 This gives them a single bet EV of -6.52\n",
      "There is NO good bet\n",
      "\n",
      "Jimmy Crute (RED) vs  Modestas Bukauskas (BLUE)\n",
      "Jimmy Crute has a 82.97 percent chance of winning.  Their odds are -335 This gives them a single bet EV of 7.74\n",
      "Modestas Bukauskas has a 17.03 percent chance of winning.  Their odds are 250 This gives them a single bet EV of -40.41\n",
      "RED is a good bet\n",
      "\n",
      "Claudio Silva (RED) vs  James Krause (BLUE)\n",
      "Claudio Silva has a 42.61 percent chance of winning.  Their odds are 130 This gives them a single bet EV of -1.99\n",
      "James Krause has a 57.39 percent chance of winning.  Their odds are -162 This gives them a single bet EV of -7.19\n",
      "There is NO good bet\n",
      "\n",
      "Thomas Almeida (RED) vs  Jonathan Martinez (BLUE)\n",
      "Thomas Almeida has a 54.44 percent chance of winning.  Their odds are -139 This gives them a single bet EV of -6.39\n",
      "Jonathan Martinez has a 45.56 percent chance of winning.  Their odds are 110 This gives them a single bet EV of -4.33\n",
      "There is NO good bet\n",
      "\n",
      "Mateusz Gamrot (RED) vs  Guram Kutateladze (BLUE)\n",
      "Mateusz Gamrot has a 82.97 percent chance of winning.  Their odds are -335 This gives them a single bet EV of 7.74\n",
      "Guram Kutateladze has a 17.03 percent chance of winning.  Their odds are 245 This gives them a single bet EV of -41.26\n",
      "RED is a good bet\n",
      "\n",
      "Gillian Robertson (RED) vs  Poliana Botelho (BLUE)\n",
      "Gillian Robertson has a 68.20 percent chance of winning.  Their odds are -215 This gives them a single bet EV of -0.08\n",
      "Poliana Botelho has a 31.80 percent chance of winning.  Their odds are 169 This gives them a single bet EV of -14.45\n",
      "There is NO good bet\n",
      "\n",
      "Junyong Park (RED) vs  John Phillips (BLUE)\n",
      "Junyong Park has a 71.98 percent chance of winning.  Their odds are -278 This gives them a single bet EV of -2.12\n",
      "John Phillips has a 28.02 percent chance of winning.  Their odds are 215 This gives them a single bet EV of -11.75\n",
      "There is NO good bet\n",
      "\n",
      "Jamie Mullarkey (RED) vs  Fares Ziam (BLUE)\n",
      "Jamie Mullarkey has a 54.44 percent chance of winning.  Their odds are -150 This gives them a single bet EV of -9.27\n",
      "Fares Ziam has a 45.56 percent chance of winning.  Their odds are 120 This gives them a single bet EV of 0.23\n",
      "BLUE is a good bet\n",
      "\n",
      "Gadzhimurad Antigulov (RED) vs  Maxim Grishin (BLUE)\n",
      "Gadzhimurad Antigulov has a 33.83 percent chance of winning.  Their odds are 277 This gives them a single bet EV of 27.54\n",
      "Maxim Grishin has a 66.17 percent chance of winning.  Their odds are -375 This gives them a single bet EV of -16.18\n",
      "RED is a good bet\n",
      "\n",
      "Said Nurmagomedov (RED) vs  Mark Striegl (BLUE)\n",
      "Said Nurmagomedov has a 75.81 percent chance of winning.  Their odds are -435 This gives them a single bet EV of -6.77\n",
      "Mark Striegl has a 24.19 percent chance of winning.  Their odds are 317 This gives them a single bet EV of 0.89\n",
      "BLUE is a good bet\n",
      "\n"
     ]
    }
   ],
   "source": [
    "for p in probs_list:\n",
    "    red_ev=get_bet_ev(p[1][0], p[2][0])\n",
    "    blue_ev=get_bet_ev(p[1][1], p[2][1])\n",
    "    \n",
    "    print(p[0][0], \"(RED) vs \", p[0][1], \"(BLUE)\")\n",
    "    print(p[0][0], \"has a\", \"%.2f\" % (p[2][0]*100), \"percent chance of winning.  Their odds are\", p[1][0], \"This gives them a single bet EV of\", \"%.2f\" %red_ev)\n",
    "    print(p[0][1], \"has a\", \"%.2f\" % (p[2][1]*100), \"percent chance of winning.  Their odds are\", p[1][1], \"This gives them a single bet EV of\", \"%.2f\" %blue_ev)\n",
    "    if red_ev > 0:\n",
    "        print(\"RED is a good bet\")\n",
    "    elif (blue_ev > 0):\n",
    "        print(\"BLUE is a good bet\")\n",
    "    else:\n",
    "        print(\"There is NO good bet\")\n",
    "    \n",
    "    print()"
   ]
  },
  {
   "cell_type": "code",
   "execution_count": null,
   "metadata": {},
   "outputs": [],
   "source": []
  }
 ],
 "metadata": {
  "kernelspec": {
   "display_name": "Python 3",
   "language": "python",
   "name": "python3"
  },
  "language_info": {
   "codemirror_mode": {
    "name": "ipython",
    "version": 3
   },
   "file_extension": ".py",
   "mimetype": "text/x-python",
   "name": "python",
   "nbconvert_exporter": "python",
   "pygments_lexer": "ipython3",
   "version": "3.7.4"
  }
 },
 "nbformat": 4,
 "nbformat_minor": 2
}
